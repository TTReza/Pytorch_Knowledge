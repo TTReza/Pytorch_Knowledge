{
  "nbformat": 4,
  "nbformat_minor": 0,
  "metadata": {
    "colab": {
      "provenance": []
    },
    "kernelspec": {
      "name": "python3",
      "display_name": "Python 3"
    },
    "language_info": {
      "name": "python"
    }
  },
  "cells": [
    {
      "cell_type": "code",
      "execution_count": 1,
      "metadata": {
        "id": "jkvsJ1K3QXY-"
      },
      "outputs": [],
      "source": [
        "import torch"
      ]
    },
    {
      "cell_type": "markdown",
      "source": [
        "![tensor.png](data:image/png;base64,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)"
      ],
      "metadata": {
        "id": "JkDDADXHlkTV"
      }
    },
    {
      "cell_type": "markdown",
      "source": [
        "**A tensor is an N-Dimensional array of data**"
      ],
      "metadata": {
        "id": "JbzT_D-TmbGZ"
      }
    },
    {
      "cell_type": "code",
      "source": [
        "my_tensor = torch.tensor([[1,2,3], [4,5,6]], dtype = torch.float32)\n",
        "print(my_tensor)"
      ],
      "metadata": {
        "colab": {
          "base_uri": "https://localhost:8080/"
        },
        "id": "WJ8tuL4qR8Ml",
        "outputId": "65a95bed-9878-43fd-ace9-579d8e9f41c7"
      },
      "execution_count": null,
      "outputs": [
        {
          "output_type": "stream",
          "name": "stdout",
          "text": [
            "tensor([[1., 2., 3.],\n",
            "        [4., 5., 6.]])\n"
          ]
        }
      ]
    },
    {
      "cell_type": "code",
      "source": [
        "print(my_tensor.device)"
      ],
      "metadata": {
        "colab": {
          "base_uri": "https://localhost:8080/"
        },
        "id": "KQii6X_1SKvK",
        "outputId": "5084e83e-83fc-48f0-c772-4d8dd48d38fa"
      },
      "execution_count": null,
      "outputs": [
        {
          "output_type": "stream",
          "name": "stdout",
          "text": [
            "cpu\n"
          ]
        }
      ]
    },
    {
      "cell_type": "code",
      "source": [
        "print(my_tensor.shape)"
      ],
      "metadata": {
        "colab": {
          "base_uri": "https://localhost:8080/"
        },
        "id": "Tn8yVz0FS94T",
        "outputId": "a66c838f-2ecc-4102-cd12-5e51514ab82a"
      },
      "execution_count": null,
      "outputs": [
        {
          "output_type": "stream",
          "name": "stdout",
          "text": [
            "torch.Size([2, 3])\n"
          ]
        }
      ]
    },
    {
      "cell_type": "code",
      "source": [
        "print(my_tensor.requires_grad)"
      ],
      "metadata": {
        "colab": {
          "base_uri": "https://localhost:8080/"
        },
        "id": "UvMvNqDDTBgr",
        "outputId": "e221331c-84e6-44d4-cdae-acc163bfa0f0"
      },
      "execution_count": null,
      "outputs": [
        {
          "output_type": "stream",
          "name": "stdout",
          "text": [
            "False\n"
          ]
        }
      ]
    },
    {
      "cell_type": "markdown",
      "source": [
        "other common initializations"
      ],
      "metadata": {
        "id": "7xldRp50TH_Q"
      }
    },
    {
      "cell_type": "code",
      "source": [
        "x = torch.empty(size=(3,3)) #eta ekta uninitialized data\n",
        "print(x)"
      ],
      "metadata": {
        "colab": {
          "base_uri": "https://localhost:8080/"
        },
        "id": "0qJ014waTGZK",
        "outputId": "c1deb877-a57b-47e8-d9fc-c93ef5570fb5"
      },
      "execution_count": null,
      "outputs": [
        {
          "output_type": "stream",
          "name": "stdout",
          "text": [
            "tensor([[2.4523e-24, 4.4086e-41, 2.4523e-24],\n",
            "        [4.4086e-41, 2.4523e-24, 4.4086e-41],\n",
            "        [2.3846e-24, 4.4086e-41, 2.5087e-24]])\n"
          ]
        }
      ]
    },
    {
      "cell_type": "code",
      "source": [
        "y = torch.zeros((3,3))\n",
        "print(y)"
      ],
      "metadata": {
        "colab": {
          "base_uri": "https://localhost:8080/"
        },
        "id": "7isP5y2cTkwD",
        "outputId": "a50568ef-0f74-48e4-b1be-216e9cec39c5"
      },
      "execution_count": null,
      "outputs": [
        {
          "output_type": "stream",
          "name": "stdout",
          "text": [
            "tensor([[0., 0., 0.],\n",
            "        [0., 0., 0.],\n",
            "        [0., 0., 0.]])\n"
          ]
        }
      ]
    },
    {
      "cell_type": "code",
      "source": [
        "x = torch.rand((3,3))\n",
        "print(x)"
      ],
      "metadata": {
        "colab": {
          "base_uri": "https://localhost:8080/"
        },
        "id": "gUYJ_bueTqJy",
        "outputId": "5eaf2645-39a2-477d-daf1-7391517a2c4e"
      },
      "execution_count": null,
      "outputs": [
        {
          "output_type": "stream",
          "name": "stdout",
          "text": [
            "tensor([[0.9822, 0.5130, 0.2724],\n",
            "        [0.9109, 0.2997, 0.6451],\n",
            "        [0.9669, 0.5327, 0.4277]])\n"
          ]
        }
      ]
    },
    {
      "cell_type": "code",
      "source": [
        "x = torch.ones((3,3))\n",
        "print(x)"
      ],
      "metadata": {
        "colab": {
          "base_uri": "https://localhost:8080/"
        },
        "id": "uUxz9flVTukD",
        "outputId": "95bcf5d3-08bb-48a0-d117-18ee5df173d8"
      },
      "execution_count": null,
      "outputs": [
        {
          "output_type": "stream",
          "name": "stdout",
          "text": [
            "tensor([[1., 1., 1.],\n",
            "        [1., 1., 1.],\n",
            "        [1., 1., 1.]])\n"
          ]
        }
      ]
    },
    {
      "cell_type": "code",
      "source": [
        "x = torch.eye(4,4) #identity matrix\n",
        "print(x)"
      ],
      "metadata": {
        "colab": {
          "base_uri": "https://localhost:8080/"
        },
        "id": "SMcQp7pYTxf7",
        "outputId": "c4f4c361-9a75-4fd6-e078-09dc187b3c04"
      },
      "execution_count": null,
      "outputs": [
        {
          "output_type": "stream",
          "name": "stdout",
          "text": [
            "tensor([[1., 0., 0., 0.],\n",
            "        [0., 1., 0., 0.],\n",
            "        [0., 0., 1., 0.],\n",
            "        [0., 0., 0., 1.]])\n"
          ]
        }
      ]
    },
    {
      "cell_type": "code",
      "source": [
        "x = torch.arange(start = 0, end =5, step =1)\n",
        "print(x)"
      ],
      "metadata": {
        "colab": {
          "base_uri": "https://localhost:8080/"
        },
        "id": "tgjv4O7nT8E6",
        "outputId": "7fbefc21-8d52-4a58-e264-9ed861f26d79"
      },
      "execution_count": null,
      "outputs": [
        {
          "output_type": "stream",
          "name": "stdout",
          "text": [
            "tensor([0, 1, 2, 3, 4])\n"
          ]
        }
      ]
    },
    {
      "cell_type": "code",
      "source": [
        "x = torch.linspace(start = 0.1, end =1, steps = 10)\n",
        "print(x)"
      ],
      "metadata": {
        "colab": {
          "base_uri": "https://localhost:8080/"
        },
        "id": "OzGat78uUPbG",
        "outputId": "5599ce66-07a9-44b3-b42e-5f5b1e9ac554"
      },
      "execution_count": null,
      "outputs": [
        {
          "output_type": "stream",
          "name": "stdout",
          "text": [
            "tensor([0.1000, 0.2000, 0.3000, 0.4000, 0.5000, 0.6000, 0.7000, 0.8000, 0.9000,\n",
            "        1.0000])\n"
          ]
        }
      ]
    },
    {
      "cell_type": "code",
      "source": [
        "x = torch.empty(size = (1,5)).normal_(mean=0,std = 1)\n",
        "print(x)"
      ],
      "metadata": {
        "colab": {
          "base_uri": "https://localhost:8080/"
        },
        "id": "cqSBZvB_Ua2D",
        "outputId": "ddcee1ea-359f-428f-ffb9-cc3a938e6ef2"
      },
      "execution_count": null,
      "outputs": [
        {
          "output_type": "stream",
          "name": "stdout",
          "text": [
            "tensor([[-0.7233, -0.5754,  1.2614,  0.7355, -0.3141]])\n"
          ]
        }
      ]
    },
    {
      "cell_type": "code",
      "source": [
        "x = torch.diag(torch.ones(3))\n",
        "print(x)"
      ],
      "metadata": {
        "colab": {
          "base_uri": "https://localhost:8080/"
        },
        "id": "LjHtsCD6YGXL",
        "outputId": "52dde8cc-c212-4ff9-a19b-8596efbd44fc"
      },
      "execution_count": null,
      "outputs": [
        {
          "output_type": "stream",
          "name": "stdout",
          "text": [
            "tensor([[1., 0., 0.],\n",
            "        [0., 1., 0.],\n",
            "        [0., 0., 1.]])\n"
          ]
        }
      ]
    },
    {
      "cell_type": "markdown",
      "source": [
        "**how to initialize and convert tensors to other types**"
      ],
      "metadata": {
        "id": "HafQBWynYXaz"
      }
    },
    {
      "cell_type": "code",
      "source": [
        "tensor = torch.arange(4)\n",
        "print(tensor.bool())"
      ],
      "metadata": {
        "colab": {
          "base_uri": "https://localhost:8080/"
        },
        "id": "Vrjexn5uYPmM",
        "outputId": "e0a2dc3c-5324-40b4-a212-a2effdbf8ff9"
      },
      "execution_count": null,
      "outputs": [
        {
          "output_type": "stream",
          "name": "stdout",
          "text": [
            "tensor([False,  True,  True,  True])\n"
          ]
        }
      ]
    },
    {
      "cell_type": "code",
      "source": [
        "print(tensor.short())"
      ],
      "metadata": {
        "colab": {
          "base_uri": "https://localhost:8080/"
        },
        "id": "WamLAXN8YiBj",
        "outputId": "24baa74d-6888-4a58-c0fd-f8cd1ce5311c"
      },
      "execution_count": null,
      "outputs": [
        {
          "output_type": "stream",
          "name": "stdout",
          "text": [
            "tensor([0, 1, 2, 3], dtype=torch.int16)\n"
          ]
        }
      ]
    },
    {
      "cell_type": "code",
      "source": [
        "print(tensor.long()) #int64\n",
        "print(tensor.half()) #float16\n",
        "print(tensor.float()) #float32\n",
        "print(tensor.double()) #float64"
      ],
      "metadata": {
        "colab": {
          "base_uri": "https://localhost:8080/"
        },
        "id": "_dyzNfQTYqnL",
        "outputId": "c0ec0c51-f1ed-4234-9b38-a9553bde2f36"
      },
      "execution_count": null,
      "outputs": [
        {
          "output_type": "stream",
          "name": "stdout",
          "text": [
            "tensor([0, 1, 2, 3])\n",
            "tensor([0., 1., 2., 3.], dtype=torch.float16)\n",
            "tensor([0., 1., 2., 3.])\n",
            "tensor([0., 1., 2., 3.], dtype=torch.float64)\n"
          ]
        }
      ]
    },
    {
      "cell_type": "markdown",
      "source": [
        "**array to tensor conversion and vice versa**"
      ],
      "metadata": {
        "id": "vrSlgKuzZOSu"
      }
    },
    {
      "cell_type": "code",
      "source": [
        "import numpy as np"
      ],
      "metadata": {
        "id": "Gvr3DtA7ZL30"
      },
      "execution_count": null,
      "outputs": []
    },
    {
      "cell_type": "code",
      "source": [
        "np_array = np.zeros((5,5))\n",
        "tensor = torch.from_numpy(np_array)\n",
        "print(tensor)"
      ],
      "metadata": {
        "colab": {
          "base_uri": "https://localhost:8080/"
        },
        "id": "zme0fCTvZUMD",
        "outputId": "437d0cd9-c9e6-41a4-c71f-f9e423d5efbb"
      },
      "execution_count": null,
      "outputs": [
        {
          "output_type": "stream",
          "name": "stdout",
          "text": [
            "tensor([[0., 0., 0., 0., 0.],\n",
            "        [0., 0., 0., 0., 0.],\n",
            "        [0., 0., 0., 0., 0.],\n",
            "        [0., 0., 0., 0., 0.],\n",
            "        [0., 0., 0., 0., 0.]], dtype=torch.float64)\n"
          ]
        }
      ]
    },
    {
      "cell_type": "code",
      "source": [
        "np_array_back = tensor.numpy()\n",
        "print(np_array_back)"
      ],
      "metadata": {
        "colab": {
          "base_uri": "https://localhost:8080/"
        },
        "id": "HL4aq-IPZezL",
        "outputId": "d7719e0f-16e5-4935-f60c-dcbfad9b0ce5"
      },
      "execution_count": null,
      "outputs": [
        {
          "output_type": "stream",
          "name": "stdout",
          "text": [
            "[[0. 0. 0. 0. 0.]\n",
            " [0. 0. 0. 0. 0.]\n",
            " [0. 0. 0. 0. 0.]\n",
            " [0. 0. 0. 0. 0.]\n",
            " [0. 0. 0. 0. 0.]]\n"
          ]
        }
      ]
    },
    {
      "cell_type": "markdown",
      "source": [
        "**Tensor Math and comparison**"
      ],
      "metadata": {
        "id": "f4m4uFMDZrHs"
      }
    },
    {
      "cell_type": "code",
      "source": [
        "x = torch.tensor([1,2,3])\n",
        "y = torch.tensor([9,8,7])"
      ],
      "metadata": {
        "id": "SnB_lpgPZjZb"
      },
      "execution_count": null,
      "outputs": []
    },
    {
      "cell_type": "code",
      "source": [
        "#addition\n",
        "z1 = torch.empty(3)\n",
        "torch.add(x,y, out= z1)\n",
        "print(z1)\n"
      ],
      "metadata": {
        "id": "Gj029M43ZzKD",
        "colab": {
          "base_uri": "https://localhost:8080/"
        },
        "outputId": "b527f2f5-5228-45bf-e78a-97e1d4055432"
      },
      "execution_count": null,
      "outputs": [
        {
          "output_type": "stream",
          "name": "stdout",
          "text": [
            "tensor([10., 10., 10.])\n"
          ]
        }
      ]
    },
    {
      "cell_type": "code",
      "source": [
        "z2 = torch.add(x,y)\n",
        "print(z2)"
      ],
      "metadata": {
        "colab": {
          "base_uri": "https://localhost:8080/"
        },
        "id": "4rvO9cFXqV2S",
        "outputId": "432f8730-5ab5-4505-a0a8-4f55e5e7a063"
      },
      "execution_count": null,
      "outputs": [
        {
          "output_type": "stream",
          "name": "stdout",
          "text": [
            "tensor([10, 10, 10])\n"
          ]
        }
      ]
    },
    {
      "cell_type": "code",
      "source": [
        "z =  x + y\n",
        "print(z)"
      ],
      "metadata": {
        "colab": {
          "base_uri": "https://localhost:8080/"
        },
        "id": "gs26224_qdEi",
        "outputId": "df32c79f-8ce7-4c2d-d4eb-32fa8043061c"
      },
      "execution_count": null,
      "outputs": [
        {
          "output_type": "stream",
          "name": "stdout",
          "text": [
            "tensor([10, 10, 10])\n"
          ]
        }
      ]
    },
    {
      "cell_type": "code",
      "source": [
        "#subtraction\n",
        "z = x - y\n",
        "#division\n",
        "\n",
        "z = torch.true_divide(x,y) #elementwise division\n",
        "\n",
        "#inplace operations\n",
        "t = torch.zeros(3)\n",
        "t.add_(x)\n",
        "print(t)"
      ],
      "metadata": {
        "colab": {
          "base_uri": "https://localhost:8080/"
        },
        "id": "CTJ_TVhVqfza",
        "outputId": "12b1298c-f678-4b98-a0a2-815bcef7bcc6"
      },
      "execution_count": null,
      "outputs": [
        {
          "output_type": "stream",
          "name": "stdout",
          "text": [
            "tensor([1., 2., 3.])\n"
          ]
        }
      ]
    },
    {
      "cell_type": "code",
      "source": [
        "t += x"
      ],
      "metadata": {
        "id": "HQQ7CqoPqjqC"
      },
      "execution_count": null,
      "outputs": []
    },
    {
      "cell_type": "code",
      "source": [
        "#exponentiation\n",
        "\n",
        "z = x.pow(2)\n",
        "print(z)"
      ],
      "metadata": {
        "colab": {
          "base_uri": "https://localhost:8080/"
        },
        "id": "lRdqdngHrBdH",
        "outputId": "5fc33f92-95e8-4cef-9b9d-54758226db67"
      },
      "execution_count": null,
      "outputs": [
        {
          "output_type": "stream",
          "name": "stdout",
          "text": [
            "tensor([1, 4, 9])\n"
          ]
        }
      ]
    },
    {
      "cell_type": "code",
      "source": [
        "z = x ** 2 #pow er motoi"
      ],
      "metadata": {
        "id": "HtjnXSqtrFzR"
      },
      "execution_count": null,
      "outputs": []
    },
    {
      "cell_type": "code",
      "source": [
        "#simple comparison\n",
        "z = x > 0\n",
        "print(z)"
      ],
      "metadata": {
        "colab": {
          "base_uri": "https://localhost:8080/"
        },
        "id": "AoWzqSVyrM4S",
        "outputId": "5a26bcbe-51c7-4dff-b5f6-ba5ebad92848"
      },
      "execution_count": null,
      "outputs": [
        {
          "output_type": "stream",
          "name": "stdout",
          "text": [
            "tensor([True, True, True])\n"
          ]
        }
      ]
    },
    {
      "cell_type": "code",
      "source": [
        "z = x < 0 #ans hobe false false false\n"
      ],
      "metadata": {
        "id": "HFHZQetDrRMi"
      },
      "execution_count": null,
      "outputs": []
    },
    {
      "cell_type": "code",
      "source": [
        "#matrix multiplication\n",
        "x1 = torch.rand((2,5))\n",
        "x2 = torch.rand((5,3))\n",
        "x3 = torch.mm(x1, x2)\n",
        "print(x3)"
      ],
      "metadata": {
        "colab": {
          "base_uri": "https://localhost:8080/"
        },
        "id": "fHMbAiV_rXIB",
        "outputId": "ccefdfcd-a82d-421d-e862-76108d762c34"
      },
      "execution_count": null,
      "outputs": [
        {
          "output_type": "stream",
          "name": "stdout",
          "text": [
            "tensor([[1.2334, 0.8384, 1.4161],\n",
            "        [0.9175, 0.6784, 1.4554]])\n"
          ]
        }
      ]
    },
    {
      "cell_type": "code",
      "source": [
        "x3 = x1.mm(x2) #etaw matrix multiplication\n",
        "print(x3)"
      ],
      "metadata": {
        "colab": {
          "base_uri": "https://localhost:8080/"
        },
        "id": "jwvOHd5SrmoR",
        "outputId": "87667879-7a18-4da1-bb7e-e7145a200035"
      },
      "execution_count": null,
      "outputs": [
        {
          "output_type": "stream",
          "name": "stdout",
          "text": [
            "tensor([[1.2334, 0.8384, 1.4161],\n",
            "        [0.9175, 0.6784, 1.4554]])\n"
          ]
        }
      ]
    },
    {
      "cell_type": "code",
      "source": [
        "#matrix exponentiation\n",
        "matrix_exp = torch.rand(5,5)\n",
        "print(matrix_exp.matrix_power(3))\n"
      ],
      "metadata": {
        "colab": {
          "base_uri": "https://localhost:8080/"
        },
        "id": "sXPsL0irrwUa",
        "outputId": "f0ffdbcb-95b1-4a89-9897-f09804c429a1"
      },
      "execution_count": null,
      "outputs": [
        {
          "output_type": "stream",
          "name": "stdout",
          "text": [
            "tensor([[2.9758, 2.7606, 1.8596, 3.6405, 2.3698],\n",
            "        [4.9322, 4.3964, 2.6635, 5.0407, 3.6609],\n",
            "        [5.2000, 4.6975, 2.9229, 5.2158, 3.9411],\n",
            "        [4.6325, 4.2808, 2.3218, 4.3763, 3.3339],\n",
            "        [4.9771, 4.6555, 2.7896, 5.2851, 3.7681]])\n"
          ]
        }
      ]
    },
    {
      "cell_type": "code",
      "source": [
        "#element wise multiplication\n",
        "z = x * y #element wise\n",
        "print(z)"
      ],
      "metadata": {
        "colab": {
          "base_uri": "https://localhost:8080/"
        },
        "id": "lOltjgMArzCp",
        "outputId": "3fd554b8-9ff4-44fb-bfa0-4cc570807f58"
      },
      "execution_count": null,
      "outputs": [
        {
          "output_type": "stream",
          "name": "stdout",
          "text": [
            "tensor([ 9, 16, 21])\n"
          ]
        }
      ]
    },
    {
      "cell_type": "code",
      "source": [
        "# dot product\n",
        "z = torch.dot(x,y)\n",
        "print(z)"
      ],
      "metadata": {
        "colab": {
          "base_uri": "https://localhost:8080/"
        },
        "id": "2D2XnSbDsJFC",
        "outputId": "5f8ac7e8-952e-4e61-bc53-8717c945e31c"
      },
      "execution_count": null,
      "outputs": [
        {
          "output_type": "stream",
          "name": "stdout",
          "text": [
            "tensor(46)\n"
          ]
        }
      ]
    },
    {
      "cell_type": "code",
      "source": [
        "# batch matrix multiplication\n",
        "batch = 32\n",
        "n = 10\n",
        "m = 20\n",
        "p = 30\n",
        "tensor1 = torch.rand((batch, n, m))\n",
        "tensor2 = torch.rand((batch, m, p))\n",
        "out_bmm = torch.bmm(tensor1,tensor2)\n"
      ],
      "metadata": {
        "id": "kyUEQNtKsVlB"
      },
      "execution_count": null,
      "outputs": []
    },
    {
      "cell_type": "code",
      "source": [
        "print(out_bmm)"
      ],
      "metadata": {
        "colab": {
          "base_uri": "https://localhost:8080/"
        },
        "id": "Bk9MfBKTslAq",
        "outputId": "3a279d16-9e07-4a24-ad7b-87ff162cc568"
      },
      "execution_count": null,
      "outputs": [
        {
          "output_type": "stream",
          "name": "stdout",
          "text": [
            "tensor([[[4.0989, 5.4861, 4.9795,  ..., 4.7274, 6.1252, 5.6851],\n",
            "         [3.6585, 5.4797, 4.6863,  ..., 5.0949, 5.7860, 6.3802],\n",
            "         [3.3841, 4.1916, 3.6970,  ..., 4.4231, 4.4220, 5.1042],\n",
            "         ...,\n",
            "         [3.4116, 5.4723, 4.0770,  ..., 4.9790, 5.4818, 6.4339],\n",
            "         [4.1287, 4.9268, 3.9077,  ..., 5.5605, 5.5200, 5.9100],\n",
            "         [4.2042, 5.2709, 5.1818,  ..., 6.2076, 6.5005, 5.9686]],\n",
            "\n",
            "        [[3.8972, 4.6450, 4.1767,  ..., 4.2821, 4.5424, 3.8859],\n",
            "         [4.0606, 4.2025, 4.0893,  ..., 4.3579, 4.3212, 5.0078],\n",
            "         [5.6551, 5.8615, 5.0121,  ..., 5.4254, 5.4513, 6.1430],\n",
            "         ...,\n",
            "         [4.3502, 4.9811, 4.3862,  ..., 4.3812, 4.6771, 5.9191],\n",
            "         [3.9478, 4.7935, 4.6072,  ..., 4.3835, 4.8276, 5.3619],\n",
            "         [5.7876, 6.9026, 5.3952,  ..., 5.8271, 6.2915, 6.7866]],\n",
            "\n",
            "        [[4.3563, 5.3301, 4.6545,  ..., 4.8802, 5.3295, 6.6631],\n",
            "         [4.2131, 6.3588, 5.1135,  ..., 5.0192, 5.0191, 5.8895],\n",
            "         [4.5038, 6.4012, 5.0201,  ..., 5.1412, 4.9811, 5.7638],\n",
            "         ...,\n",
            "         [3.5457, 5.1546, 4.4797,  ..., 5.0700, 5.2062, 5.8696],\n",
            "         [3.8846, 6.2462, 5.3674,  ..., 5.0069, 5.2742, 6.6383],\n",
            "         [3.5999, 4.2991, 4.1884,  ..., 3.8278, 4.5960, 5.8611]],\n",
            "\n",
            "        ...,\n",
            "\n",
            "        [[6.7010, 5.4581, 5.5250,  ..., 4.8403, 5.8661, 4.8241],\n",
            "         [7.8688, 6.9982, 6.8450,  ..., 5.8032, 6.4844, 6.0295],\n",
            "         [4.8852, 5.1816, 4.3843,  ..., 4.2335, 4.4513, 4.5330],\n",
            "         ...,\n",
            "         [5.2431, 4.6779, 4.8698,  ..., 4.7974, 4.1390, 4.9058],\n",
            "         [6.6986, 6.2897, 5.7789,  ..., 4.9007, 4.9236, 5.8621],\n",
            "         [6.8703, 5.8340, 5.9115,  ..., 6.0573, 5.8908, 6.1496]],\n",
            "\n",
            "        [[6.7370, 3.9095, 5.9960,  ..., 5.0583, 4.7582, 5.6344],\n",
            "         [6.1966, 3.9247, 6.6255,  ..., 4.7639, 4.8832, 5.3388],\n",
            "         [6.7549, 4.1962, 6.5764,  ..., 5.2325, 5.4285, 6.1479],\n",
            "         ...,\n",
            "         [5.8091, 3.8147, 5.6538,  ..., 4.4761, 5.4029, 5.7592],\n",
            "         [5.4752, 3.3599, 5.3400,  ..., 4.0594, 4.2968, 4.5282],\n",
            "         [7.4991, 5.1981, 7.3207,  ..., 5.7555, 5.9618, 7.0434]],\n",
            "\n",
            "        [[5.2089, 5.7481, 4.6132,  ..., 5.2953, 5.5754, 4.2757],\n",
            "         [5.5277, 5.7386, 4.6737,  ..., 4.7777, 4.9675, 4.3019],\n",
            "         [5.0128, 6.1365, 4.8779,  ..., 5.6037, 5.5093, 4.6063],\n",
            "         ...,\n",
            "         [5.6267, 5.7854, 3.7210,  ..., 4.5453, 5.3715, 4.7249],\n",
            "         [5.7813, 6.2614, 4.6002,  ..., 5.3004, 5.0098, 5.6247],\n",
            "         [6.4016, 7.3026, 5.5718,  ..., 6.1108, 5.9875, 5.7255]]])\n"
          ]
        }
      ]
    },
    {
      "cell_type": "markdown",
      "source": [
        "**Batch matrix**\n",
        "Define batch size, matrix dimensions\n",
        "\n",
        "```\n",
        "batch_size = 3\n",
        "matrix_size = 2\n",
        "```\n",
        "Create two batches of matrices\n",
        "\n",
        "\n",
        "```\n",
        "A = torch.rand((batch_size, matrix_size, matrix_size))\n",
        "B = torch.rand((batch_size, matrix_size, matrix_size))\n",
        "```\n",
        "Print the original matrices\n",
        "\n",
        "\n",
        "```\n",
        "print(\"Matrix A:\\n\", A)\n",
        "print(\"\\nMatrix B:\\n\", B)\n",
        "```\n",
        "\n",
        "**Output:**\n",
        "\n",
        "\n",
        "```\n",
        "Matrix A:\n",
        " tensor([[[0.4624, 0.4798],\n",
        "          [0.5585, 0.8498]],\n",
        "\n",
        "         [[0.3167, 0.5703],\n",
        "          [0.1044, 0.4149]],\n",
        "\n",
        "         [[0.1996, 0.8364],\n",
        "          [0.4111, 0.4567]]])\n",
        "\n",
        "Matrix B:\n",
        " tensor([[[0.3638, 0.0351],\n",
        "          [0.3327, 0.2437]],\n",
        "\n",
        "         [[0.4172, 0.3998],\n",
        "          [0.3491, 0.8464]],\n",
        "\n",
        "         [[0.0064, 0.0449],\n",
        "          [0.6938, 0.5334]]]\n",
        "```\n",
        "\n",
        "\n",
        "\n"
      ],
      "metadata": {
        "id": "qgkVUjaxkw2O"
      }
    },
    {
      "cell_type": "code",
      "source": [
        "#example of broadcasting\n",
        "\n",
        "x1 = torch.rand((5,5))\n",
        "x2 = torch.rand((1,5))\n",
        "z = x1 - x2\n",
        "print(z)"
      ],
      "metadata": {
        "colab": {
          "base_uri": "https://localhost:8080/"
        },
        "id": "q4ZQK1w8s1Fq",
        "outputId": "772bffc3-05d1-4787-ff01-11c9c08bb998"
      },
      "execution_count": null,
      "outputs": [
        {
          "output_type": "stream",
          "name": "stdout",
          "text": [
            "tensor([[ 0.0560,  0.0055,  0.0424,  0.5953, -0.0567],\n",
            "        [ 0.6420, -0.2507, -0.3884,  0.3978,  0.2406],\n",
            "        [ 0.6868, -0.6372,  0.2335,  0.1885,  0.4397],\n",
            "        [ 0.6266, -0.1918, -0.5904, -0.0700, -0.1804],\n",
            "        [ 0.8124, -0.7707,  0.3464,  0.4340,  0.2050]])\n"
          ]
        }
      ]
    },
    {
      "cell_type": "code",
      "source": [
        "#useful tensor operations\n",
        "sum_x = torch.sum(x,dim = 0)\n",
        "print(sum_x)"
      ],
      "metadata": {
        "colab": {
          "base_uri": "https://localhost:8080/"
        },
        "id": "2FTrB-UAtQv5",
        "outputId": "dbc6d851-db76-4979-fc82-9a7b69b91573"
      },
      "execution_count": null,
      "outputs": [
        {
          "output_type": "stream",
          "name": "stdout",
          "text": [
            "tensor(6)\n"
          ]
        }
      ]
    },
    {
      "cell_type": "code",
      "source": [
        "'''values, indices = torch.max(x, dim = 0)\n",
        "values, indices = torch.min(x, dim = 0)\n",
        "abs_x = torch.abs(x)\n",
        "z = torch.argmax(x, dim = 0) #alternative of max\n",
        "z = torch.argmin(x, dim = 0) #alternative of min\n",
        "mean_x = torch.mean(x.float(), dim = 0)\n",
        "z = torch.eq(x,y) #which element are equal or not equal\n",
        "sorted_y, indices = torch.sort(y, dim = 0, descending=False)'''\n"
      ],
      "metadata": {
        "colab": {
          "base_uri": "https://localhost:8080/",
          "height": 105
        },
        "id": "ee2w1B_6tYk6",
        "outputId": "bb779177-1515-418c-e74c-9cfbd089474d"
      },
      "execution_count": null,
      "outputs": [
        {
          "output_type": "execute_result",
          "data": {
            "text/plain": [
              "'values, indices = torch.max(x, dim = 0)\\nvalues, indices = torch.min(x, dim = 0)\\nabs_x = torch.abs(x)\\nz = torch.argmax(x, dim = 0) #alternative of max\\nz = torch.argmin(x, dim = 0) #alternative of min\\nmean_x = torch.mean(x.float(), dim = 0)\\nz = torch.eq(x,y) #which element are equal or not equal\\nsorted_y, indices = torch.sort(y, dim = 0, descending=False)'"
            ],
            "application/vnd.google.colaboratory.intrinsic+json": {
              "type": "string"
            }
          },
          "metadata": {},
          "execution_count": 28
        }
      ]
    },
    {
      "cell_type": "code",
      "source": [
        "z = torch.clamp(x, min = 0) #all elements are less than 0 will be set to zero\n",
        "x = torch.tensor([1,0,1,1,1], dtype = torch.bool)\n",
        "z = torch.any(x)\n",
        "z = torch.all(x)\n",
        "#print(z)"
      ],
      "metadata": {
        "id": "fKfEYaWtufdz"
      },
      "execution_count": null,
      "outputs": []
    },
    {
      "cell_type": "markdown",
      "source": [
        "Indexing in a tensor"
      ],
      "metadata": {
        "id": "U8cAACqpvRvN"
      }
    },
    {
      "cell_type": "code",
      "source": [
        "batch_size = 10\n",
        "features = 25\n",
        "x = torch.rand((batch_size, features))\n",
        "\n",
        "print(x[0].shape) #x[0, :]"
      ],
      "metadata": {
        "colab": {
          "base_uri": "https://localhost:8080/"
        },
        "id": "iG0qiCssu-cS",
        "outputId": "e6ecc7fd-bbea-4c9c-c7ca-c1f0a4b8bb12"
      },
      "execution_count": 2,
      "outputs": [
        {
          "output_type": "stream",
          "name": "stdout",
          "text": [
            "torch.Size([25])\n"
          ]
        }
      ]
    },
    {
      "cell_type": "code",
      "source": [
        "print(x[:, 0])"
      ],
      "metadata": {
        "colab": {
          "base_uri": "https://localhost:8080/"
        },
        "id": "YDDN0mu6vflv",
        "outputId": "fc1708a9-e1f6-403d-f30b-29d85e03880c"
      },
      "execution_count": 3,
      "outputs": [
        {
          "output_type": "stream",
          "name": "stdout",
          "text": [
            "tensor([0.4353, 0.4219, 0.1598, 0.9770, 0.7924, 0.0170, 0.8465, 0.4426, 0.7814,\n",
            "        0.8448])\n"
          ]
        }
      ]
    },
    {
      "cell_type": "code",
      "source": [
        "print(x[2, 0:10]) #0:10 --> [0,1,2,...,9]"
      ],
      "metadata": {
        "colab": {
          "base_uri": "https://localhost:8080/"
        },
        "id": "kIQhIYSrvlfM",
        "outputId": "289a2537-62b6-4a21-f16d-ded93208abe6"
      },
      "execution_count": 4,
      "outputs": [
        {
          "output_type": "stream",
          "name": "stdout",
          "text": [
            "tensor([0.1598, 0.7152, 0.3260, 0.3849, 0.7234, 0.1556, 0.8899, 0.3176, 0.5212,\n",
            "        0.3447])\n"
          ]
        }
      ]
    },
    {
      "cell_type": "code",
      "source": [
        "#fancy indexing\n",
        "\n",
        "x = torch.arange(10)\n",
        "indices = [2,5,8]\n",
        "print(x[indices])"
      ],
      "metadata": {
        "colab": {
          "base_uri": "https://localhost:8080/"
        },
        "id": "vRITcD-6vyzT",
        "outputId": "21ed6256-cfc3-4f85-c735-e9a3ea5a7787"
      },
      "execution_count": 5,
      "outputs": [
        {
          "output_type": "stream",
          "name": "stdout",
          "text": [
            "tensor([2, 5, 8])\n"
          ]
        }
      ]
    },
    {
      "cell_type": "code",
      "source": [
        "x = torch.rand((3,5))\n",
        "rows = torch.tensor([1,0])\n",
        "cols = torch.tensor([4,0])\n",
        "print(x[rows,cols])"
      ],
      "metadata": {
        "id": "f3Izy1SbwD46",
        "colab": {
          "base_uri": "https://localhost:8080/"
        },
        "outputId": "30869f36-ea5b-44ca-c9e7-f0c9ec3c45d1"
      },
      "execution_count": 7,
      "outputs": [
        {
          "output_type": "stream",
          "name": "stdout",
          "text": [
            "tensor([0.3676, 0.6748])\n"
          ]
        }
      ]
    },
    {
      "cell_type": "markdown",
      "source": [
        "**Here's a step-by-step explanation:**\n",
        "\n",
        "**x = torch.rand((3,5)):** This line creates a 3x5 matrix (x) filled with random values between 0 and 1 using torch.rand().\n",
        "\n",
        "**rows = torch.tensor([1,0]):** This line creates a tensor (rows) containing the row indices [1, 0]. These indices represent the rows you want to extract from the matrix.\n",
        "\n",
        "**cols = torch.tensor([4,0]):** This line creates a tensor (cols) containing the column indices [4, 0]. These indices represent the columns you want to extract from the matrix.\n",
        "\n",
        "**print(x[rows, cols]):** This line prints the elements from the matrix x at the specified row and column indices. In this case, it prints the elements at (1, 4) and (0, 0). So, it will output a tensor with these specific values."
      ],
      "metadata": {
        "id": "_moIFFaMiXj0"
      }
    },
    {
      "cell_type": "code",
      "source": [
        "print(x)"
      ],
      "metadata": {
        "colab": {
          "base_uri": "https://localhost:8080/"
        },
        "id": "JpiKeToTca52",
        "outputId": "35fe0f25-fbba-4781-d2ba-bb0ed1bdc5ef"
      },
      "execution_count": 8,
      "outputs": [
        {
          "output_type": "stream",
          "name": "stdout",
          "text": [
            "tensor([[0.6748, 0.6339, 0.9383, 0.6126, 0.6708],\n",
            "        [0.1491, 0.2116, 0.3304, 0.7667, 0.3676],\n",
            "        [0.1595, 0.7106, 0.6474, 0.7838, 0.6415]])\n"
          ]
        }
      ]
    },
    {
      "cell_type": "code",
      "source": [
        "#more advanced indexing\n",
        "\n",
        "x = torch.arange(10)\n",
        "print(x[(x < 2)| (x > 8)])"
      ],
      "metadata": {
        "colab": {
          "base_uri": "https://localhost:8080/"
        },
        "id": "CIYK22lFdI3E",
        "outputId": "9c8ded06-3de9-426a-e4e1-b82b7c95634f"
      },
      "execution_count": 9,
      "outputs": [
        {
          "output_type": "stream",
          "name": "stdout",
          "text": [
            "tensor([0, 1, 9])\n"
          ]
        }
      ]
    },
    {
      "cell_type": "code",
      "source": [
        "print(x[(x < 2) & (x < 1)])"
      ],
      "metadata": {
        "colab": {
          "base_uri": "https://localhost:8080/"
        },
        "id": "LEmJBh2BdeBm",
        "outputId": "5bf840d5-baab-4b08-cc11-f0a7b1bca384"
      },
      "execution_count": 11,
      "outputs": [
        {
          "output_type": "stream",
          "name": "stdout",
          "text": [
            "tensor([0])\n"
          ]
        }
      ]
    },
    {
      "cell_type": "code",
      "source": [
        "print(x[x.remainder(2) == 0])"
      ],
      "metadata": {
        "colab": {
          "base_uri": "https://localhost:8080/"
        },
        "id": "dxdxQ2-9doZ8",
        "outputId": "7fa5844c-3d50-418b-bb5f-708161401d60"
      },
      "execution_count": 12,
      "outputs": [
        {
          "output_type": "stream",
          "name": "stdout",
          "text": [
            "tensor([0, 2, 4, 6, 8])\n"
          ]
        }
      ]
    },
    {
      "cell_type": "code",
      "source": [
        "#useful operations\n",
        "print(torch.where(x > 5, x, x*2))"
      ],
      "metadata": {
        "colab": {
          "base_uri": "https://localhost:8080/"
        },
        "id": "7cL_JwBTd1Ok",
        "outputId": "c7cb6f4f-9bd0-429e-de30-4c0bafcbffae"
      },
      "execution_count": 13,
      "outputs": [
        {
          "output_type": "stream",
          "name": "stdout",
          "text": [
            "tensor([ 0,  2,  4,  6,  8, 10,  6,  7,  8,  9])\n"
          ]
        }
      ]
    },
    {
      "cell_type": "code",
      "source": [
        "print(torch.tensor([0,0,1,2,2,3,4]).unique())"
      ],
      "metadata": {
        "colab": {
          "base_uri": "https://localhost:8080/"
        },
        "id": "gWF_RGz5eFZk",
        "outputId": "a222111a-cb7c-4210-988c-2459ca5d8532"
      },
      "execution_count": 15,
      "outputs": [
        {
          "output_type": "stream",
          "name": "stdout",
          "text": [
            "tensor([0, 1, 2, 3, 4])\n"
          ]
        }
      ]
    },
    {
      "cell_type": "code",
      "source": [
        "print(x.ndimension()) #if we had 4x4x4 tensor so dimension will be 3"
      ],
      "metadata": {
        "colab": {
          "base_uri": "https://localhost:8080/"
        },
        "id": "IUSxzSsqeWrc",
        "outputId": "43d08032-036b-4dbd-88ff-018dd93fbfd9"
      },
      "execution_count": 17,
      "outputs": [
        {
          "output_type": "stream",
          "name": "stdout",
          "text": [
            "1\n"
          ]
        }
      ]
    },
    {
      "cell_type": "code",
      "source": [
        "print(x.numel()) #number of elements"
      ],
      "metadata": {
        "colab": {
          "base_uri": "https://localhost:8080/"
        },
        "id": "pxpZ27PYed0V",
        "outputId": "b0e009ac-225f-4ea5-e144-e3c9aece0ba6"
      },
      "execution_count": 19,
      "outputs": [
        {
          "output_type": "stream",
          "name": "stdout",
          "text": [
            "10\n"
          ]
        }
      ]
    },
    {
      "cell_type": "markdown",
      "source": [
        "How do we reshape?"
      ],
      "metadata": {
        "id": "fL_oZ74NesCX"
      }
    },
    {
      "cell_type": "code",
      "source": [
        "x = torch.arange(9)\n",
        "\n",
        "x_3x3 = x.view(3,3)\n",
        "print(x_3x3)"
      ],
      "metadata": {
        "colab": {
          "base_uri": "https://localhost:8080/"
        },
        "id": "WYeXBGSoenbm",
        "outputId": "9864aa76-5b81-4eb5-be6d-405b6f0b0d34"
      },
      "execution_count": 20,
      "outputs": [
        {
          "output_type": "stream",
          "name": "stdout",
          "text": [
            "tensor([[0, 1, 2],\n",
            "        [3, 4, 5],\n",
            "        [6, 7, 8]])\n"
          ]
        }
      ]
    },
    {
      "cell_type": "code",
      "source": [
        "x_3x3 = x.reshape(3,3)"
      ],
      "metadata": {
        "colab": {
          "base_uri": "https://localhost:8080/",
          "height": 53
        },
        "id": "uTOIOPriezwd",
        "outputId": "3c4ff82d-f1f6-48de-aba1-48d491e9e479"
      },
      "execution_count": 21,
      "outputs": [
        {
          "output_type": "execute_result",
          "data": {
            "text/plain": [
              "'\\nIn summary, while both view and reshape are used for reshaping tensors, view is more strict about contiguous memory, and reshape is more flexible but may involve data copying in some cases. The choice between them depends on the specific use case and the requirements of your code.\\n'"
            ],
            "application/vnd.google.colaboratory.intrinsic+json": {
              "type": "string"
            }
          },
          "metadata": {},
          "execution_count": 21
        }
      ]
    },
    {
      "cell_type": "markdown",
      "source": [
        "In summary, while both view and reshape are used for reshaping tensors, view is more strict about contiguous memory, and reshape is more flexible but may involve data copying in some cases. The choice between them depends on the specific use case and the requirements of your code."
      ],
      "metadata": {
        "id": "Slo7tOFblTx6"
      }
    },
    {
      "cell_type": "code",
      "source": [
        "y = x_3x3.t() #transpose of x\n",
        "print(y)"
      ],
      "metadata": {
        "colab": {
          "base_uri": "https://localhost:8080/"
        },
        "id": "fC7naCZifVd0",
        "outputId": "eba20727-8227-4782-fe77-7f3e4763451f"
      },
      "execution_count": 23,
      "outputs": [
        {
          "output_type": "stream",
          "name": "stdout",
          "text": [
            "tensor([[0, 3, 6],\n",
            "        [1, 4, 7],\n",
            "        [2, 5, 8]])\n"
          ]
        }
      ]
    },
    {
      "cell_type": "code",
      "source": [
        "print(y.contiguous().view(9))"
      ],
      "metadata": {
        "colab": {
          "base_uri": "https://localhost:8080/"
        },
        "id": "lPtiYaHIflpk",
        "outputId": "500a5e1c-0f9b-4e09-99d8-af499fd62a6c"
      },
      "execution_count": 25,
      "outputs": [
        {
          "output_type": "stream",
          "name": "stdout",
          "text": [
            "tensor([0, 3, 6, 1, 4, 7, 2, 5, 8])\n"
          ]
        }
      ]
    },
    {
      "cell_type": "code",
      "source": [
        "x1 = torch.rand((2,5))\n",
        "x2 = torch.rand((2,5))\n",
        "print(torch.cat((x1,x2), dim = 0).shape)"
      ],
      "metadata": {
        "colab": {
          "base_uri": "https://localhost:8080/"
        },
        "id": "2Y4Ye3rtgA3-",
        "outputId": "f286af86-3904-4de6-d63c-546a50ed9d9f"
      },
      "execution_count": 26,
      "outputs": [
        {
          "output_type": "stream",
          "name": "stdout",
          "text": [
            "torch.Size([4, 5])\n"
          ]
        }
      ]
    },
    {
      "cell_type": "code",
      "source": [
        "print(torch.cat((x1,x2), dim = 1).shape)"
      ],
      "metadata": {
        "colab": {
          "base_uri": "https://localhost:8080/"
        },
        "id": "yg93MnSxgPyt",
        "outputId": "4f9c028d-d1bb-4b28-a778-78b07a2b7c54"
      },
      "execution_count": 27,
      "outputs": [
        {
          "output_type": "stream",
          "name": "stdout",
          "text": [
            "torch.Size([2, 10])\n"
          ]
        }
      ]
    },
    {
      "cell_type": "code",
      "source": [
        "print(torch.cat((x1,x2), dim = 1))"
      ],
      "metadata": {
        "colab": {
          "base_uri": "https://localhost:8080/"
        },
        "id": "XlEsHZvQgUBM",
        "outputId": "bc35fb23-b989-4579-c871-fde38a4dc6a8"
      },
      "execution_count": 28,
      "outputs": [
        {
          "output_type": "stream",
          "name": "stdout",
          "text": [
            "tensor([[0.5006, 0.4561, 0.5377, 0.8235, 0.6583, 0.4788, 0.8072, 0.1798, 0.3128,\n",
            "         0.7059],\n",
            "        [0.4939, 0.7654, 0.1377, 0.6190, 0.7912, 0.1639, 0.0447, 0.8921, 0.8264,\n",
            "         0.3620]])\n"
          ]
        }
      ]
    },
    {
      "cell_type": "markdown",
      "source": [
        "\n",
        "\n",
        "```\n",
        "x1 = torch.tensor([[1, 2, 3, 4, 5],\n",
        "                   [6, 7, 8, 9, 10]])\n",
        "\n",
        "x2 = torch.tensor([[11, 12, 13, 14, 15],\n",
        "                   [16, 17, 18, 19, 20]])\n",
        "\n",
        "concatenated_tensor = torch.cat((x1, x2), dim=0)\n",
        "```\n",
        "\n",
        "\n",
        "**Output:**\n",
        "\n",
        "\n",
        "\n",
        "```\n",
        "tensor([[ 1,  2,  3,  4,  5],\n",
        "        [ 6,  7,  8,  9, 10],\n",
        "        [11, 12, 13, 14, 15],\n",
        "        [16, 17, 18, 19, 20]])\n",
        "```\n",
        "\n",
        "\n"
      ],
      "metadata": {
        "id": "OqohAVnQg0CD"
      }
    },
    {
      "cell_type": "code",
      "source": [
        "z = x1.view(-1) #flatten the entire thing\n",
        "print(z)"
      ],
      "metadata": {
        "colab": {
          "base_uri": "https://localhost:8080/"
        },
        "id": "BKxXUMPogwkc",
        "outputId": "b332451d-f0e1-4a17-9469-74f41e1904f0"
      },
      "execution_count": 30,
      "outputs": [
        {
          "output_type": "stream",
          "name": "stdout",
          "text": [
            "tensor([0.5006, 0.4561, 0.5377, 0.8235, 0.6583, 0.4939, 0.7654, 0.1377, 0.6190,\n",
            "        0.7912])\n"
          ]
        }
      ]
    },
    {
      "cell_type": "code",
      "source": [
        "batch = 64\n",
        "x = torch.rand((batch, 2, 5))\n",
        "z = x.view(batch, -1)\n",
        "print(z.shape)\n"
      ],
      "metadata": {
        "colab": {
          "base_uri": "https://localhost:8080/"
        },
        "id": "GMPmD2rLhb8M",
        "outputId": "c9cba6e0-6bad-437c-d3cf-9865b2be916d"
      },
      "execution_count": 31,
      "outputs": [
        {
          "output_type": "stream",
          "name": "stdout",
          "text": [
            "torch.Size([64, 10])\n"
          ]
        }
      ]
    },
    {
      "cell_type": "markdown",
      "source": [
        "**z = x.view(batch, -1):** This line reshapes the tensor x into a new tensor z. The view method is used with batch as the first dimension, and -1 as the second dimension. The -1 is a placeholder that automatically calculates the size of the second dimension based on the original size and the specified first dimension (batch)."
      ],
      "metadata": {
        "id": "X_Cgz4tciQDt"
      }
    },
    {
      "cell_type": "markdown",
      "source": [
        "The output shape of z will be **(64, 10)**. **This means that each instance in the batch has been flattened to a 1-dimensional tensor of size 10** (resulting from reshaping the original 2x5 matrix). The first dimension (batch) remains unchanged at 64."
      ],
      "metadata": {
        "id": "NZa5MrjeiH50"
      }
    },
    {
      "cell_type": "code",
      "source": [
        "z = x.permute(0, 2, 1)\n",
        "print(z.shape)"
      ],
      "metadata": {
        "colab": {
          "base_uri": "https://localhost:8080/"
        },
        "id": "XLNgGZ9AhqyF",
        "outputId": "0566b8df-830a-4228-85bb-4780619b6846"
      },
      "execution_count": 32,
      "outputs": [
        {
          "output_type": "stream",
          "name": "stdout",
          "text": [
            "torch.Size([64, 5, 2])\n"
          ]
        }
      ]
    },
    {
      "cell_type": "markdown",
      "source": [
        "Create a tensor with dimensions (batch, channels, height, width)\n",
        "`x = torch.rand((64, 3, 28, 28))`\n",
        "\n",
        "Permute the dimensions to (batch, height, width, channels)\n",
        "`y = x.permute(0, 2, 3, 1)`\n",
        "\n",
        "Print the shapes of the original and permuted tensors\n",
        "```\n",
        "print(\"Original tensor shape:\", x.shape)\n",
        "print(\"Permuted tensor shape:\", y.shape)\n",
        "```\n",
        "**Explanation:**\n",
        "\n",
        "x = torch.rand((64, 3, 28, 28)): This line creates a random tensor x with dimensions (64, 3, 28, 28), representing a batch of 64 images, each with 3 channels (RGB) and a resolution of 28x28 pixels.\n",
        "\n",
        "y = x.permute(0, 2, 3, 1): The permute() method is used to rearrange the dimensions of the tensor x. In this example, it is rearranged to (batch, height, width, channels). The order of dimensions is specified as 0, 2, 3, 1.\n",
        "\n",
        "0 corresponds to the original batch dimension.\n",
        "2 corresponds to the height dimension.\n",
        "3 corresponds to the width dimension.\n",
        "1 corresponds to the original channel dimension.\n",
        "print(\"Original tensor shape:\", x.shape): This line prints the shape of the original tensor x.\n",
        "\n",
        "print(\"Permuted tensor shape:\", y.shape): This line prints the shape of the tensor y after the permutation.\n"
      ],
      "metadata": {
        "id": "30V5sC91jR67"
      }
    },
    {
      "cell_type": "code",
      "source": [
        "x = torch.arange(10)\n",
        "print(x.unsqueeze(0).shape)"
      ],
      "metadata": {
        "colab": {
          "base_uri": "https://localhost:8080/"
        },
        "id": "SAV975aNi7qV",
        "outputId": "a34db62d-9abe-4d26-9c12-3a8dfd14a1c9"
      },
      "execution_count": 33,
      "outputs": [
        {
          "output_type": "stream",
          "name": "stdout",
          "text": [
            "torch.Size([1, 10])\n"
          ]
        }
      ]
    },
    {
      "cell_type": "markdown",
      "source": [
        "The shape of the tensor after unsqueeze(0) is (1, 10). The 1 is the newly added dimension, and 10 is the size of the original dimension. This operation effectively converts the 1-dimensional tensor into a 2-dimensional tensor with a singleton dimension at the front"
      ],
      "metadata": {
        "id": "oQnJbCLXnEsn"
      }
    },
    {
      "cell_type": "code",
      "source": [
        "x = torch.arange(10).unsqueeze(0).unsqueeze(1) #1x1x10"
      ],
      "metadata": {
        "id": "Fstkr3_gmxsU"
      },
      "execution_count": 34,
      "outputs": []
    },
    {
      "cell_type": "code",
      "source": [
        "z = x.squeeze(1)\n",
        "print(z.shape)"
      ],
      "metadata": {
        "colab": {
          "base_uri": "https://localhost:8080/"
        },
        "id": "7hWNN_EdnODp",
        "outputId": "e2aedde4-a937-4b2a-fbd5-bf7dc1a5297b"
      },
      "execution_count": 36,
      "outputs": [
        {
          "output_type": "stream",
          "name": "stdout",
          "text": [
            "torch.Size([1, 10])\n"
          ]
        }
      ]
    },
    {
      "cell_type": "code",
      "source": [],
      "metadata": {
        "id": "7vUEs4oonQwE"
      },
      "execution_count": null,
      "outputs": []
    }
  ]
}